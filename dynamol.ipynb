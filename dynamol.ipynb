{
 "cells": [
  {
   "cell_type": "code",
   "execution_count": 316,
   "metadata": {},
   "outputs": [],
   "source": [
    "import matplotlib.pyplot as plt\n",
    "import numpy as np"
   ]
  },
  {
   "cell_type": "code",
   "execution_count": 317,
   "metadata": {},
   "outputs": [],
   "source": [
    "## Parameters that are often changed\n",
    "Nsteps = 20\n",
    "Nequil = 10\n",
    "Nrescale = 1\n",
    "Frequency_write_physical_properties = 1\n",
    "Nwrite_physical_properties = int(Nsteps / Frequency_write_physical_properties)\n",
    "Nwrite_physical_properties_equil = int(Nequil / Frequency_write_physical_properties)\n",
    "#Nwrite_trajectories = 100\n",
    "Box_size = 21.024\n",
    "Temperature_external = 90.0"
   ]
  },
  {
   "cell_type": "code",
   "execution_count": 318,
   "metadata": {},
   "outputs": [],
   "source": [
    "## Parameters that are barely changed\n",
    "Timestep_fs = 1.0\n",
    "Natoms = 256\n",
    "Mass = 39.948\n",
    "Epsilon = 0.9966288\n",
    "Sigma = 3.405"
   ]
  },
  {
   "cell_type": "code",
   "execution_count": 319,
   "metadata": {},
   "outputs": [],
   "source": [
    "## Constants\n",
    "Avogadro = 6.022140857e23\n",
    "Boltzmann = 1.38064852e-23\n",
    "Bohr = 0.52917721067e-10\n",
    "Pi = 3.14159265358979323"
   ]
  },
  {
   "cell_type": "code",
   "execution_count": 320,
   "metadata": {},
   "outputs": [],
   "source": [
    "## Atomic units conversion factors\n",
    "Time_fs2au = 1.0 / 2.4188843265857e-2\n",
    "Length_Angstrom2au = 1.0e-10 / Bohr\n",
    "Length_au2Angstrom = 1.0 / Length_Angstrom2au\n",
    "Energy_au2J = 4.359744650e-18\n",
    "Energy_J2au = 1.0 / Energy_au2J\n",
    "Energy_kJpermol2au = 1.0e3 * Energy_J2au / Avogadro\n",
    "Energy_au2kJpermol = 1.0 / Energy_kJpermol2au\n",
    "Mass_gpermol2au = 1.0e-3 / (Avogadro * 9.10938356e-31)\n",
    "Pressure_au2bar = 2.9421015697e8"
   ]
  },
  {
   "cell_type": "code",
   "execution_count": 321,
   "metadata": {},
   "outputs": [],
   "source": [
    "## Conversion to atomic units\n",
    "Box_size = Box_size * Length_Angstrom2au\n",
    "Epsilon = Epsilon * Energy_kJpermol2au\n",
    "Sigma = Sigma * Length_Angstrom2au\n",
    "Mass = Mass * Mass_gpermol2au \n",
    "Timestep = Timestep_fs * Time_fs2au\n",
    "Boltzmann_au = Boltzmann * Energy_J2au"
   ]
  },
  {
   "cell_type": "code",
   "execution_count": 322,
   "metadata": {},
   "outputs": [],
   "source": [
    "## Determination of the cut-off for interactions\n",
    "Rcutoff = 2.5 * Sigma\n",
    "Rcutoff2 = Rcutoff**2"
   ]
  },
  {
   "cell_type": "code",
   "execution_count": 323,
   "metadata": {},
   "outputs": [],
   "source": [
    "def Compute_Temperature(velocities):\n",
    "    kinetic_energy = 0.0\n",
    "    for i in range(Natoms) :\n",
    "        kinetic_energy = kinetic_energy + 0.5*Mass*np.dot(velocities[i,:],velocities[i,:])\n",
    "        \n",
    "    temperature = 2.0 * kinetic_energy / (3.0 * Boltzmann_au * Natoms)\n",
    "\n",
    "    configurational_pressure = 2.0 * kinetic_energy / (3.0 * Box_size**3)\n",
    "    \n",
    "    return kinetic_energy,temperature, configurational_pressure"
   ]
  },
  {
   "cell_type": "code",
   "execution_count": 324,
   "metadata": {},
   "outputs": [],
   "source": [
    "def Compute_long_range_corrections():\n",
    "\n",
    "    long_range_correction_energy = 4.0 * Epsilon * Sigma**3 * Natoms**2 * ((Sigma/Rcutoff)**9/3.0 -(Sigma/Rcutoff)**3)\n",
    "    long_range_correction_energy = long_range_correction_energy * 2.0 * Pi / (3.0 * Box_size**3)\n",
    "\n",
    "    long_range_correction_pressure = 4.0 * Epsilon * Sigma**3 * Natoms**2 * ((Sigma/Rcutoff)**9*4.0 - (Sigma/Rcutoff)**3*6.0)\n",
    "    long_range_correction_pressure = long_range_correction_pressure * 2.0 * Pi / (3.0 * Box_size**3)\n",
    "\n",
    "    long_range_correction_pressure = long_range_correction_pressure / (3.0 * Box_size**3)\n",
    "\n",
    "    return long_range_correction_energy, long_range_correction_pressure"
   ]
  },
  {
   "cell_type": "code",
   "execution_count": 325,
   "metadata": {},
   "outputs": [],
   "source": [
    "def Compute_Forces(positions):\n",
    "\n",
    "    forces = np.zeros([Natoms,3])\n",
    "    rij = np.zeros([3])\n",
    "    potential_energy = 0.0 \n",
    "    virial = 0.0\n",
    "\n",
    "    for i in range(Natoms-1) :\n",
    "        for j in range(i+1,Natoms) :\n",
    "            rij[:] = positions[i,:]-positions[j,:]\n",
    "            for k in range(3):\n",
    "                if(rij[k] > Box_size/2.0):\n",
    "                    rij[k] = rij[k]-Box_size\n",
    "                if(rij[k] < -Box_size/2.0):\n",
    "                    rij[k] = rij[k]+Box_size             \n",
    "            rijsquare = np.dot(rij,rij)\n",
    "            if(rijsquare < Rcutoff2):\n",
    "                rijdist = np.sqrt(rijsquare)\n",
    "                attractive_term = (Sigma/rijdist)**6\n",
    "                repulsive_term = attractive_term**2\n",
    "                fij = 4.0 * Epsilon * (12.0*repulsive_term-6.0*attractive_term)/rijsquare\n",
    "                potential_energy = potential_energy +  4.0 * Epsilon * (repulsive_term - attractive_term)\n",
    "                forces[i,:] = forces[i,:] + fij*rij[:]\n",
    "                forces[j,:] = forces[j,:] - fij*rij[:]\n",
    "                virial = virial + 4.0 * Epsilon * (12.0*repulsive_term-6.0*attractive_term)\n",
    "\n",
    "    virial = virial/(3.0*Box_size**3)            \n",
    "\n",
    "    return potential_energy, forces, virial"
   ]
  },
  {
   "cell_type": "code",
   "execution_count": 326,
   "metadata": {},
   "outputs": [],
   "source": [
    "def Verlet_halfstep1(positions, velocities, forces):\n",
    "    \n",
    "    newpositions = positions + velocities * Timestep + 0.5*Timestep**2*forces/Mass\n",
    "    newvelocities = velocities + 0.5*Timestep*forces/Mass\n",
    "\n",
    "    return newpositions, newvelocities"
   ]
  },
  {
   "cell_type": "code",
   "execution_count": 327,
   "metadata": {},
   "outputs": [],
   "source": [
    "def Verlet_halfstep2(velocities, forces):\n",
    "\n",
    "    newvelocities = velocities + 0.5*Timestep*forces/Mass\n",
    "\n",
    "    return newvelocities"
   ]
  },
  {
   "cell_type": "code",
   "execution_count": 328,
   "metadata": {},
   "outputs": [],
   "source": [
    "# Initialize positions\n",
    "\n",
    "def initialize_positions():\n",
    "\n",
    "    origin = np.zeros([3])\n",
    "    initial_positions = np.zeros([Natoms,3])\n",
    "    shift = Box_size / 4.0\n",
    "\n",
    "    origin[0] = 0.0\n",
    "    origin[1] = 0.0\n",
    "    origin[2] = 0.0\n",
    "\n",
    "    l = 0\n",
    "    for i in range (4) :\n",
    "        for j in range (4) :\n",
    "            for k in range (4) :\n",
    "                initial_positions[l,0] = origin[0] + i*shift\n",
    "                initial_positions[l,1] = origin[1] + j*shift\n",
    "                initial_positions[l,2] = origin[2] + k*shift  \n",
    "                l = l+1\n",
    "\n",
    "    origin[0] = 0.5\n",
    "    origin[1] = 0.5\n",
    "    origin[2] = 0.0\n",
    "    origin = origin * shift\n",
    "\n",
    "    for i in range (4) :\n",
    "        for j in range (4) :\n",
    "            for k in range (4) :\n",
    "                initial_positions[l,0] = origin[0] + i*shift\n",
    "                initial_positions[l,1] = origin[1] + j*shift\n",
    "                initial_positions[l,2] = origin[2] + k*shift  \n",
    "                l = l+1\n",
    "\n",
    "    origin[0] = 0.5\n",
    "    origin[1] = 0.0\n",
    "    origin[2] = 0.5\n",
    "    origin = origin * shift\n",
    "\n",
    "    for i in range (4) :\n",
    "        for j in range (4) :\n",
    "            for k in range (4) :\n",
    "                initial_positions[l,0] = origin[0] + i*shift\n",
    "                initial_positions[l,1] = origin[1] + j*shift\n",
    "                initial_positions[l,2] = origin[2] + k*shift  \n",
    "                l = l+1\n",
    "\n",
    "    origin[0] = 0.0\n",
    "    origin[1] = 0.5\n",
    "    origin[2] = 0.5\n",
    "    origin = origin * shift\n",
    "\n",
    "    for i in range (4) :\n",
    "        for j in range (4) :\n",
    "            for k in range (4) :\n",
    "                initial_positions[l,0] = origin[0] + i*shift\n",
    "                initial_positions[l,1] = origin[1] + j*shift\n",
    "                initial_positions[l,2] = origin[2] + k*shift  \n",
    "                l = l+1\n",
    "\n",
    "    return initial_positions"
   ]
  },
  {
   "cell_type": "code",
   "execution_count": 329,
   "metadata": {},
   "outputs": [],
   "source": [
    "# Put back the positions into the central box\n",
    "\n",
    "def inside_box(positions):\n",
    "\n",
    "    for i in range(Natoms) :\n",
    "        for j in range(3) :\n",
    "            if(positions[i,j] > Box_size) :\n",
    "                positions[i,j] = positions[i,j] - Box_size\n",
    "            if(positions[i,j] < 0.0) :\n",
    "                positions[i,j] = positions[i,j] + Box_size\n",
    "\n",
    "    return positions"
   ]
  },
  {
   "cell_type": "code",
   "execution_count": 330,
   "metadata": {},
   "outputs": [],
   "source": [
    "# Remove center of mass velocity\n",
    "\n",
    "def remove_com_velocity(velocities):\n",
    "\n",
    "    velocity_com = np.zeros([3])\n",
    "    for i in range(Natoms) :\n",
    "        velocity_com[:] = velocity_com[:] + velocities[i,:]\n",
    "\n",
    "    velocity_com = velocity_com / Natoms\n",
    "\n",
    "    for i in range(Natoms) :\n",
    "        velocities[i,:] = velocities[i,:] - velocity_com[:]\n",
    "\n",
    "    return velocities"
   ]
  },
  {
   "cell_type": "code",
   "execution_count": 331,
   "metadata": {},
   "outputs": [],
   "source": [
    "# Rescale velocities at the target temperature\n",
    "\n",
    "def rescale_velocities(velocities):\n",
    "\n",
    "    temperature = Compute_Temperature(velocities)[1]\n",
    "    scaled_velocities = velocities * np.sqrt(Temperature_external / temperature)            \n",
    "\n",
    "    return scaled_velocities"
   ]
  },
  {
   "cell_type": "code",
   "execution_count": 332,
   "metadata": {},
   "outputs": [],
   "source": [
    "# Initialize velocities\n",
    "\n",
    "def initialize_velocities():\n",
    "\n",
    "    initial_velocities = np.random.normal(0,0.001,[Natoms,3])\n",
    "    initial_velocities = remove_com_velocity(initial_velocities)\n",
    "    initial_velocities = rescale_velocities(initial_velocities)\n",
    "\n",
    "    return initial_velocities"
   ]
  },
  {
   "cell_type": "code",
   "execution_count": 333,
   "metadata": {},
   "outputs": [],
   "source": [
    "# Initialize physical properties\n",
    "\n",
    "def initialize_physical_properties():\n",
    "\n",
    "    temperature = np.zeros([Nwrite_physical_properties])\n",
    "    pressure = np.zeros([Nwrite_physical_properties])\n",
    "    kinetic_energy = np.zeros([Nwrite_physical_properties])\n",
    "    potential_energy = np.zeros([Nwrite_physical_properties])\n",
    "    total_energy = np.zeros([Nwrite_physical_properties])\n",
    "    time = np.zeros([Nwrite_physical_properties])\n",
    "\n",
    "    return temperature, pressure, kinetic_energy, potential_energy, total_energy, time"
   ]
  },
  {
   "cell_type": "code",
   "execution_count": 334,
   "metadata": {},
   "outputs": [
    {
     "name": "stdout",
     "output_type": "stream",
     "text": [
      "88.87704146390092\n"
     ]
    }
   ],
   "source": [
    "# Main\n",
    "\n",
    "## Initialization\n",
    "positions = initialize_positions()\n",
    "velocities = initialize_velocities()\n",
    "forces = Compute_Forces(positions)[1]\n",
    "temperature, pressure, kinetic_energy, potential_energy, total_energy, time = initialize_physical_properties()\n",
    "long_range_correction_energy, long_range_correction_pressure = Compute_long_range_corrections() \n",
    "\n",
    "k = 0\n",
    "kwrite = 0\n",
    "## Integrate equations of motion -- equilibration\n",
    "for i in range(Nequil) :\n",
    "    positions, velocities = Verlet_halfstep1(positions, velocities, forces)\n",
    "    positions = inside_box(positions)\n",
    "    locpotential_energy, forces, virial = Compute_Forces(positions)\n",
    "    velocities = Verlet_halfstep2(velocities, forces)\n",
    "    velocities = remove_com_velocity(velocities)\n",
    "    if (np.mod(k+1,Nrescale) == 0) :\n",
    "        velocities = rescale_velocities(velocities) \n",
    "#   pressure = virial + conf_pressure + long_range_correction_pressure\n",
    "    if (np.mod(k+1,Frequency_write_physical_properties) == 0) :\n",
    "        lockinetic_energy, temperature[kwrite], conf_pressure = Compute_Temperature(velocities)\n",
    "        potential_energy[kwrite] = locpotential_energy + long_range_correction_energy\n",
    "        potential_energy[kwrite] = potential_energy[kwrite] * Energy_au2kJpermol\n",
    "        kinetic_energy[kwrite] = lockinetic_energy * Energy_au2kJpermol\n",
    "        total_energy[kwrite] = kinetic_energy[kwrite] + potential_energy[kwrite]\n",
    "        pressure[kwrite] = virial + conf_pressure\n",
    "        pressure[kwrite] = pressure[kwrite] * Pressure_au2bar\n",
    "        time[kwrite] = Frequency_write_physical_properties * kwrite * Timestep_fs \n",
    "        kwrite = kwrite + 1\n",
    "    k = k + 1   \n",
    "\n",
    "## Integrate equations of motion -- production\n",
    "for i in range(Nsteps-Nequil) :\n",
    "    positions, velocities = Verlet_halfstep1(positions, velocities, forces)\n",
    "    positions = inside_box(positions)\n",
    "    locpotential_energy, forces, virial = Compute_Forces(positions)\n",
    "    velocities = Verlet_halfstep2(velocities, forces)\n",
    "    velocities = remove_com_velocity(velocities)\n",
    "#   pressure = virial + conf_pressure + long_range_correction_pressure\n",
    "    if (np.mod(k+1,Frequency_write_physical_properties) == 0) :\n",
    "        lockinetic_energy, temperature[kwrite], conf_pressure = Compute_Temperature(velocities)\n",
    "        potential_energy[kwrite] = locpotential_energy + long_range_correction_energy\n",
    "        potential_energy[kwrite] = potential_energy[kwrite] * Energy_au2kJpermol\n",
    "        kinetic_energy[kwrite] = lockinetic_energy * Energy_au2kJpermol\n",
    "        total_energy[kwrite] = kinetic_energy[kwrite] + potential_energy[kwrite]\n",
    "        pressure[kwrite] = virial + conf_pressure\n",
    "        pressure[kwrite] = pressure[kwrite] * Pressure_au2bar\n",
    "        time[kwrite] = Frequency_write_physical_properties * kwrite * Timestep_fs\n",
    "        kwrite = kwrite + 1\n",
    "    k = k + 1\n",
    "   \n",
    "print(np.mean(temperature[Nwrite_physical_properties_equil:]))"
   ]
  },
  {
   "cell_type": "code",
   "execution_count": 337,
   "metadata": {},
   "outputs": [
    {
     "data": {
      "text/plain": [
       "Text(0, 0.5, 'E (kJ mol$^{-1}$)')"
      ]
     },
     "execution_count": 337,
     "metadata": {},
     "output_type": "execute_result"
    },
    {
     "data": {
      "image/png": "[encoded data removed]",
      "text/plain": [
       "<Figure size 432x288 with 1 Axes>"
      ]
     },
     "metadata": {
      "needs_background": "light"
     },
     "output_type": "display_data"
    }
   ],
   "source": [
    "plt.rc('text', usetex=True)\n",
    "plt.rc('text.latex', preamble=r'\\usepackage{cmbright}')\n",
    "plt.plot(time,total_energy)\n",
    "plt.plot(time,kinetic_energy)\n",
    "plt.plot(time,potential_energy)\n",
    "plt.xlabel(r't (fs)')\n",
    "plt.ylabel(r'E (kJ mol$^{-1}$)')"
   ]
  },
  {
   "cell_type": "code",
   "execution_count": 338,
   "metadata": {},
   "outputs": [
    {
     "data": {
      "text/plain": [
       "Text(0, 0.5, 'E (kJ mol$^{-1}$)')"
      ]
     },
     "execution_count": 338,
     "metadata": {},
     "output_type": "execute_result"
    },
    {
     "data": {
      "image/png": "[encoded data removed]",
      "text/plain": [
       "<Figure size 432x288 with 1 Axes>"
      ]
     },
     "metadata": {
      "needs_background": "light"
     },
     "output_type": "display_data"
    }
   ],
   "source": [
    "plt.rc('text', usetex=True)\n",
    "plt.rc('text.latex', preamble=r'\\usepackage{cmbright}')\n",
    "plt.plot(time,potential_energy)\n",
    "plt.xlabel(r't (fs)')\n",
    "plt.ylabel(r'E (kJ mol$^{-1}$)')"
   ]
  },
  {
   "cell_type": "code",
   "execution_count": 339,
   "metadata": {},
   "outputs": [
    {
     "data": {
      "text/plain": [
       "Text(0, 0.5, 'E (kJ mol$^{-1}$)')"
      ]
     },
     "execution_count": 339,
     "metadata": {},
     "output_type": "execute_result"
    },
    {
     "data": {
      "image/png": "[encoded data removed]",
      "text/plain": [
       "<Figure size 432x288 with 1 Axes>"
      ]
     },
     "metadata": {
      "needs_background": "light"
     },
     "output_type": "display_data"
    }
   ],
   "source": [
    "plt.rc('text', usetex=True)\n",
    "plt.rc('text.latex', preamble=r'\\usepackage{cmbright}')\n",
    "plt.plot(time,potential_energy)\n",
    "plt.plot(time,total_energy)\n",
    "plt.xlabel(r't (fs)')\n",
    "plt.ylabel(r'E (kJ mol$^{-1}$)')"
   ]
  },
  {
   "cell_type": "code",
   "execution_count": null,
   "metadata": {},
   "outputs": [],
   "source": []
  }
 ],
 "metadata": {
  "kernelspec": {
   "display_name": "Python 3",
   "language": "python",
   "name": "python3"
  },
  "language_info": {
   "codemirror_mode": {
    "name": "ipython",
    "version": 3
   },
   "file_extension": ".py",
   "mimetype": "text/x-python",
   "name": "python",
   "nbconvert_exporter": "python",
   "pygments_lexer": "ipython3",
   "version": "3.8.3"
  }
 },
 "nbformat": 4,
 "nbformat_minor": 4
}
